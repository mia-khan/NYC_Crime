{
 "cells": [
  {
   "cell_type": "markdown",
   "metadata": {},
   "source": [
    "# File for Combining All 8 Quarters Between 2023 and 2024 of All Parks in New York City Jurisdiction\n",
    "\n",
    "Data from [New York Police Department](https://www.nyc.gov/site/nypd/stats/crime-statistics/park-crime-stats.page)"
   ]
  },
  {
   "cell_type": "code",
   "execution_count": 25,
   "metadata": {},
   "outputs": [],
   "source": [
    "import pandas as pd\n",
    "import os\n",
    "import re"
   ]
  },
  {
   "cell_type": "code",
   "execution_count": 26,
   "metadata": {},
   "outputs": [
    {
     "name": "stdout",
     "output_type": "stream",
     "text": [
      "Missing MURDER values: 1154\n",
      "PARK                              9232\n",
      "BOROUGH                           9232\n",
      "SIZE (ACRES)                      9232\n",
      "CATEGORY                          9232\n",
      "MURDER                            8078\n",
      "RAPE                              9232\n",
      "ROBBERY                           9232\n",
      "FELONY ASSAULT                    9232\n",
      "BURGLARY                          9232\n",
      "GRAND LARCENY                     9232\n",
      "GRAND LARCENY OF MOTOR VEHICLE    9232\n",
      "TOTAL                             9232\n",
      "quarter                           9232\n",
      "year                              9232\n",
      "dtype: int64\n"
     ]
    }
   ],
   "source": [
    "import pandas as pd\n",
    "import os\n",
    "import re\n",
    "\n",
    "# List of file paths\n",
    "file_paths = [\n",
    "    \"nyc-park-crime-stats-q1-2023.xlsx\",\n",
    "    \"nyc-park-crime-stats-q2-2023.xlsx\",\n",
    "    \"nyc-park-crime-stats-q3-2023.xlsx\",\n",
    "    \"nyc-park-crime-stats-q4-2023.xlsx\",\n",
    "    \"nyc-park-crime-stats-q1-2024.xlsx\",\n",
    "    \"nyc-park-crime-stats-q2-2024.xlsx\",\n",
    "    \"nyc-park-crime-stats-q3-2024.xlsx\",\n",
    "    \"nyc-park-crime-stats-q4-2024.xlsx\"\n",
    "]\n",
    "\n",
    "# Regex pattern to extract quarter and year\n",
    "pattern = re.compile(r\"q([1-4])-(\\d{4})\")\n",
    "\n",
    "# Collect all DataFrames\n",
    "df_list = []\n",
    "\n",
    "for file in file_paths:\n",
    "    match = pattern.search(file)\n",
    "    if match:\n",
    "        quarter, year = match.groups()\n",
    "        \n",
    "        # Read the Excel file; default behavior already converts blanks to NaN\n",
    "        df = pd.read_excel(file, header=0)\n",
    "        \n",
    "        # Force empty strings to NaN explicitly just in case\n",
    "        df = df.replace(r'^\\s*$', pd.NA, regex=True)\n",
    "        \n",
    "        # Add the quarter and year\n",
    "        df[\"quarter\"] = int(quarter)\n",
    "        df[\"year\"] = int(year)\n",
    "        \n",
    "        df_list.append(df)\n",
    "    else:\n",
    "        print(f\"Skipping file: {file}\")\n",
    "\n",
    "# Combine all data\n",
    "combined_df = pd.concat(df_list, ignore_index=True)\n",
    "\n",
    "# Optional: if you want to check how many missing values are in the MURDER column\n",
    "print(\"Missing MURDER values:\", combined_df['MURDER'].isna().sum())\n",
    "\n",
    "# Save the result\n",
    "combined_df.to_csv(\"combined_nyc_park_crime_stats.csv\", index=False)\n",
    "print(combined_df.count())"
   ]
  }
 ],
 "metadata": {
  "kernelspec": {
   "display_name": "base",
   "language": "python",
   "name": "python3"
  },
  "language_info": {
   "codemirror_mode": {
    "name": "ipython",
    "version": 3
   },
   "file_extension": ".py",
   "mimetype": "text/x-python",
   "name": "python",
   "nbconvert_exporter": "python",
   "pygments_lexer": "ipython3",
   "version": "3.12.4"
  }
 },
 "nbformat": 4,
 "nbformat_minor": 2
}
